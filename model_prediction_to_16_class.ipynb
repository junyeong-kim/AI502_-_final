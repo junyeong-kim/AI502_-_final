{
 "cells": [
  {
   "cell_type": "code",
   "execution_count": 2,
   "metadata": {},
   "outputs": [],
   "source": [
    "import torch\n",
    "from torch import nn\n",
    "import torchvision\n",
    "import torchvision.transforms as transforms\n",
    "import os\n",
    "\n",
    "# from probabilities_to_decision import *"
   ]
  },
  {
   "cell_type": "code",
   "execution_count": 24,
   "metadata": {},
   "outputs": [
    {
     "data": {
      "text/plain": [
       "['airplane', 'airplane', 'airplane', 'airplane']"
      ]
     },
     "execution_count": 24,
     "metadata": {},
     "output_type": "execute_result"
    }
   ],
   "source": [
    "# dataset 및 dataloader 로드 방법 1\n",
    "from modelvshuman.datasets import sketch\n",
    "dataset = sketch(batch_size=4, num_workers = 1)\n",
    "x, y, file_name = next(iter(dataset.loader))\n",
    "y"
   ]
  },
  {
   "cell_type": "code",
   "execution_count": 25,
   "metadata": {},
   "outputs": [
    {
     "name": "stdout",
     "output_type": "stream",
     "text": [
      "['imagenet_validation', 'sketch', 'stylized', 'original', 'greyscale', 'texture', 'edge', 'silhouette', 'cue-conflict', 'colour', 'contrast', 'high-pass', 'low-pass', 'phase-scrambling', 'power-equalisation', 'false-colour', 'rotation', 'eidolonI', 'eidolonII', 'eidolonIII', 'uniform-noise']\n"
     ]
    },
    {
     "data": {
      "text/plain": [
       "['airplane', 'airplane', 'airplane', 'airplane']"
      ]
     },
     "execution_count": 25,
     "metadata": {},
     "output_type": "execute_result"
    }
   ],
   "source": [
    "# dataset 및 dataloader 로드 방법 2\n",
    "from modelvshuman import datasets\n",
    "print(list(datasets.list_datasets().keys()))  # 사용 가능한 데이터들 출력\n",
    "dataset2 = datasets.stylized(batch_size=4, num_workers = 1)\n",
    "x, y, file_name = next(iter(dataset2.loader))\n",
    "y"
   ]
  },
  {
   "cell_type": "code",
   "execution_count": 33,
   "metadata": {},
   "outputs": [
    {
     "name": "stderr",
     "output_type": "stream",
     "text": [
      "c:\\Users\\Admin\\anaconda3\\envs\\torch\\lib\\site-packages\\torchvision\\models\\_utils.py:208: UserWarning: The parameter 'pretrained' is deprecated since 0.13 and may be removed in the future, please use 'weights' instead.\n",
      "  warnings.warn(\n",
      "c:\\Users\\Admin\\anaconda3\\envs\\torch\\lib\\site-packages\\torchvision\\models\\_utils.py:223: UserWarning: Arguments other than a weight enum or `None` for 'weights' are deprecated since 0.13 and may be removed in the future. The current behavior is equivalent to passing `weights=ResNet18_Weights.IMAGENET1K_V1`. You can also use `weights=ResNet18_Weights.DEFAULT` to get the most up-to-date weights.\n",
      "  warnings.warn(msg)\n",
      "C:\\Users\\Admin\\AppData\\Local\\Temp\\ipykernel_13352\\431485148.py:11: UserWarning: Implicit dimension choice for softmax has been deprecated. Change the call to include dim=X as an argument.\n",
      "  softmax_output =  nn.functional.softmax(pred) # replace with your favourite CNN\n"
     ]
    }
   ],
   "source": [
    "from modelvshuman.datasets.decision_mappings import ImageNetProbabilitiesTo16ClassesMapping\n",
    "\n",
    "dataset2 = datasets.stylized(batch_size=4, num_workers = 1)\n",
    "\n",
    "model = torchvision.models.resnet.resnet18(pretrained=True)\n",
    "\n",
    "for x, y, file_name in dataset2.loader:\n",
    "    pred = model(x)\n",
    "\n",
    "    # get softmax output\n",
    "    softmax_output =  nn.functional.softmax(pred) # replace with your favourite CNN\n",
    "\n",
    "    # convert to numpy\n",
    "    softmax_output_numpy = softmax_output.detach().numpy() # replace with conversion\n",
    "\n",
    "    # create mapping\n",
    "    mapping = ImageNetProbabilitiesTo16ClassesMapping()\n",
    "    \n",
    "    # obtain decision \n",
    "    decision_from_16_classes = mapping(softmax_output_numpy)\n",
    "\n",
    "    break"
   ]
  },
  {
   "cell_type": "code",
   "execution_count": 42,
   "metadata": {},
   "outputs": [
    {
     "data": {
      "text/plain": [
       "(array(['chair', 'knife', 'oven', 'bear'], dtype='<U8'),\n",
       " ['airplane', 'airplane', 'airplane', 'airplane'])"
      ]
     },
     "execution_count": 42,
     "metadata": {},
     "output_type": "execute_result"
    }
   ],
   "source": [
    "decision_from_16_classes[:,0], y"
   ]
  }
 ],
 "metadata": {
  "kernelspec": {
   "display_name": "torch",
   "language": "python",
   "name": "python3"
  },
  "language_info": {
   "codemirror_mode": {
    "name": "ipython",
    "version": 3
   },
   "file_extension": ".py",
   "mimetype": "text/x-python",
   "name": "python",
   "nbconvert_exporter": "python",
   "pygments_lexer": "ipython3",
   "version": "3.10.10"
  },
  "orig_nbformat": 4
 },
 "nbformat": 4,
 "nbformat_minor": 2
}
