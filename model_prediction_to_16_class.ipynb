{
 "cells": [
  {
   "cell_type": "code",
   "execution_count": 2,
   "metadata": {},
   "outputs": [],
   "source": [
    "import torch\n",
    "from torch import nn\n",
    "import torchvision\n",
    "import torchvision.transforms as transforms\n",
    "import os\n",
    "\n",
    "# from probabilities_to_decision import *"
   ]
  },
  {
   "cell_type": "code",
   "execution_count": 24,
   "metadata": {},
   "outputs": [
    {
     "data": {
      "text/plain": [
       "['airplane', 'airplane', 'airplane', 'airplane']"
      ]
     },
     "execution_count": 24,
     "metadata": {},
     "output_type": "execute_result"
    }
   ],
   "source": [
    "# dataset 및 dataloader 로드 방법 1\n",
    "from modelvshuman.datasets import sketch\n",
    "dataset = sketch(batch_size=4, num_workers = 1)\n",
    "x, y, file_name = next(iter(dataset.loader))\n",
    "y"
   ]
  },
  {
   "cell_type": "code",
   "execution_count": 25,
   "metadata": {},
   "outputs": [
    {
     "name": "stdout",
     "output_type": "stream",
     "text": [
      "['imagenet_validation', 'sketch', 'stylized', 'original', 'greyscale', 'texture', 'edge', 'silhouette', 'cue-conflict', 'colour', 'contrast', 'high-pass', 'low-pass', 'phase-scrambling', 'power-equalisation', 'false-colour', 'rotation', 'eidolonI', 'eidolonII', 'eidolonIII', 'uniform-noise']\n"
     ]
    }
   ],
   "source": [
    "# dataset 및 dataloader 로드 방법 2\n",
    "from modelvshuman import datasets\n",
    "print(list(datasets.list_datasets().keys()))  # 사용 가능한 데이터들 출력\n",
    "dataset2 = datasets.stylized(batch_size=4, num_workers = 1)\n",
    "x, y, file_name = next(iter(dataset2.loader))\n",
    "y"
   ]
  }
 ],
 "metadata": {
  "kernelspec": {
   "display_name": "torch",
   "language": "python",
   "name": "python3"
  },
  "language_info": {
   "codemirror_mode": {
    "name": "ipython",
    "version": 3
   },
   "file_extension": ".py",
   "mimetype": "text/x-python",
   "name": "python",
   "nbconvert_exporter": "python",
   "pygments_lexer": "ipython3",
   "version": "3.10.10"
  },
  "orig_nbformat": 4
 },
 "nbformat": 4,
 "nbformat_minor": 2
}
